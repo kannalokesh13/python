{
 "cells": [
  {
   "cell_type": "markdown",
   "id": "88455067",
   "metadata": {},
   "source": [
    "#### 1. Write a Python program to find sum of elements in list?"
   ]
  },
  {
   "cell_type": "code",
   "execution_count": 1,
   "id": "4ab684b8",
   "metadata": {},
   "outputs": [
    {
     "name": "stdout",
     "output_type": "stream",
     "text": [
      "15\n"
     ]
    }
   ],
   "source": [
    "lst = [1,2,3,4,5]\n",
    "print(sum(lst))"
   ]
  },
  {
   "cell_type": "markdown",
   "id": "7cf29701",
   "metadata": {},
   "source": [
    "#### 2. Write a Python program to Multiply all numbers in the list?"
   ]
  },
  {
   "cell_type": "code",
   "execution_count": 2,
   "id": "de455561",
   "metadata": {},
   "outputs": [
    {
     "name": "stdout",
     "output_type": "stream",
     "text": [
      "120\n"
     ]
    }
   ],
   "source": [
    "p = 1\n",
    "for i in lst:\n",
    "    p*=i\n",
    "print(p)"
   ]
  },
  {
   "cell_type": "markdown",
   "id": "07a2994b",
   "metadata": {},
   "source": [
    "#### 3. Write a Python program to find smallest number in a list?"
   ]
  },
  {
   "cell_type": "code",
   "execution_count": 3,
   "id": "09cd5eb8",
   "metadata": {},
   "outputs": [
    {
     "name": "stdout",
     "output_type": "stream",
     "text": [
      "1\n"
     ]
    }
   ],
   "source": [
    "print(min(lst))"
   ]
  },
  {
   "cell_type": "markdown",
   "id": "02f28c5b",
   "metadata": {},
   "source": [
    "#### 4. Write a Python program to find largest number in a list?"
   ]
  },
  {
   "cell_type": "code",
   "execution_count": 4,
   "id": "dbedad72",
   "metadata": {},
   "outputs": [
    {
     "name": "stdout",
     "output_type": "stream",
     "text": [
      "5\n"
     ]
    }
   ],
   "source": [
    "print(max(lst))"
   ]
  },
  {
   "cell_type": "markdown",
   "id": "0522db3d",
   "metadata": {},
   "source": [
    "#### 5. Write a Python program to find second largest number in a list?"
   ]
  },
  {
   "cell_type": "code",
   "execution_count": 5,
   "id": "a3c33e1f",
   "metadata": {},
   "outputs": [
    {
     "name": "stdout",
     "output_type": "stream",
     "text": [
      "4\n"
     ]
    }
   ],
   "source": [
    "k = max(lst)\n",
    "lst.remove(k)\n",
    "print(max(lst))"
   ]
  },
  {
   "cell_type": "markdown",
   "id": "ceaf32cb",
   "metadata": {},
   "source": [
    "#### 6. Write a Python program to find N largest elements from a list?"
   ]
  },
  {
   "cell_type": "code",
   "execution_count": 6,
   "id": "02c479e8",
   "metadata": {},
   "outputs": [
    {
     "name": "stdout",
     "output_type": "stream",
     "text": [
      "The 3 largest numbers are: [9, 8, 7]\n"
     ]
    }
   ],
   "source": [
    "import heapq\n",
    "\n",
    "def find_n_largest(numbers, n):\n",
    "    return heapq.nlargest(n, numbers)\n",
    "\n",
    "numbers = [4, 7, 1, 3, 9, 2, 5, 8, 6]\n",
    "n = 3\n",
    "\n",
    "largest_numbers = find_n_largest(numbers, n)\n",
    "print(f\"The {n} largest numbers are: {largest_numbers}\")\n"
   ]
  },
  {
   "cell_type": "markdown",
   "id": "c5dea0dd",
   "metadata": {},
   "source": [
    "#### 7. Write a Python program to print even numbers in a list?"
   ]
  },
  {
   "cell_type": "code",
   "execution_count": 9,
   "id": "aa170e3a",
   "metadata": {},
   "outputs": [
    {
     "name": "stdout",
     "output_type": "stream",
     "text": [
      "[2, 4]\n"
     ]
    }
   ],
   "source": [
    "e_lst=[]\n",
    "for i in lst:\n",
    "    if i%2==0:\n",
    "        e_lst.append(i)\n",
    "        \n",
    "print(e_lst)"
   ]
  },
  {
   "cell_type": "markdown",
   "id": "aa14ac9d",
   "metadata": {},
   "source": [
    "#### 8. Write a Python program to print odd numbers in a List?"
   ]
  },
  {
   "cell_type": "code",
   "execution_count": 10,
   "id": "2d559b94",
   "metadata": {},
   "outputs": [
    {
     "name": "stdout",
     "output_type": "stream",
     "text": [
      "[1, 3]\n"
     ]
    }
   ],
   "source": [
    "o_lst=[]\n",
    "for i in lst:\n",
    "    if i%2==1:\n",
    "        o_lst.append(i)\n",
    "print(o_lst)  "
   ]
  },
  {
   "cell_type": "markdown",
   "id": "33e71b0d",
   "metadata": {},
   "source": [
    "#### 9. Write a Python program to Remove empty List from List?"
   ]
  },
  {
   "cell_type": "code",
   "execution_count": 11,
   "id": "a5275d63",
   "metadata": {},
   "outputs": [
    {
     "name": "stdout",
     "output_type": "stream",
     "text": [
      "[1, 2, 3, 4, 5, 6]\n"
     ]
    }
   ],
   "source": [
    "my_list = [1, 2, [], 3, [], [], 4, 5, [], 6]\n",
    "new_list = [item for item in my_list if item != []]\n",
    "print(new_list)"
   ]
  },
  {
   "cell_type": "markdown",
   "id": "eed513cf",
   "metadata": {},
   "source": [
    "#### 10. Write a Python program to Cloning or Copying a list?"
   ]
  },
  {
   "cell_type": "code",
   "execution_count": 12,
   "id": "5868eb43",
   "metadata": {},
   "outputs": [
    {
     "name": "stdout",
     "output_type": "stream",
     "text": [
      "[1, 2, [], 3, [], [], 4, 5, [], 6]\n"
     ]
    }
   ],
   "source": [
    "clone_lst = my_list.copy()\n",
    "print(clone_lst)"
   ]
  },
  {
   "cell_type": "markdown",
   "id": "68c4a62e",
   "metadata": {},
   "source": [
    "#### 11. Write a Python program to Count occurrences of an element in a list?"
   ]
  },
  {
   "cell_type": "code",
   "execution_count": 14,
   "id": "ab0f6e40",
   "metadata": {},
   "outputs": [
    {
     "name": "stdout",
     "output_type": "stream",
     "text": [
      "{1: 3, 2: 2, 3: 1, 4: 4, 5: 2, 6: 3, 7: 3, 9: 1}\n"
     ]
    }
   ],
   "source": [
    "lst = [1,1,1,2,2,4,4,4,5,6,7,5,9,3,6,7,6,4,7]\n",
    "\n",
    "s = list(set(lst))\n",
    "\n",
    "d = dict()\n",
    "for i in s:\n",
    "    d[i]=lst.count(i)\n",
    "    \n",
    "print(d)"
   ]
  },
  {
   "cell_type": "code",
   "execution_count": null,
   "id": "cb8f7134",
   "metadata": {},
   "outputs": [],
   "source": []
  }
 ],
 "metadata": {
  "kernelspec": {
   "display_name": "Python 3 (ipykernel)",
   "language": "python",
   "name": "python3"
  },
  "language_info": {
   "codemirror_mode": {
    "name": "ipython",
    "version": 3
   },
   "file_extension": ".py",
   "mimetype": "text/x-python",
   "name": "python",
   "nbconvert_exporter": "python",
   "pygments_lexer": "ipython3",
   "version": "3.9.7"
  }
 },
 "nbformat": 4,
 "nbformat_minor": 5
}
