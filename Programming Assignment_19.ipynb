{
 "cells": [
  {
   "cell_type": "markdown",
   "metadata": {},
   "source": [
    "#### Question1\n",
    "#### Create a function that takes a string and returns a string in which each character is repeated once.\n",
    "#### Examples\n",
    "#### double_char(\"String\") ➞ :SSttrriinngg\"\n",
    "#### double_char(\"Hello World!\") ➞ \"HHeelllloo WWoorrlldd!!\"\n",
    "#### double_char(\"1234!_ \") ➞ \"11223344!!__ \""
   ]
  },
  {
   "cell_type": "code",
   "execution_count": 2,
   "metadata": {},
   "outputs": [
    {
     "name": "stdout",
     "output_type": "stream",
     "text": [
      "SSttrriinngg\n",
      "HHeelllloo  WWoorrlldd!!\n",
      "11223344!!__  \n"
     ]
    }
   ],
   "source": [
    "def double_char(s):\n",
    "    lst = [*s]\n",
    "    n_lst = []\n",
    "    for i in range(len(lst)):\n",
    "        n_lst.append(lst[i])\n",
    "        n_lst.append(lst[i])\n",
    "        \n",
    "    s = ''.join(n_lst)\n",
    "        \n",
    "    return s\n",
    "print(double_char(\"String\"))\n",
    "print(double_char(\"Hello World!\"))\n",
    "print(double_char(\"1234!_ \") )"
   ]
  },
  {
   "cell_type": "markdown",
   "metadata": {},
   "source": [
    "#### Question2\n",
    "#### Create a function that reverses a boolean value and returns the string &quot;boolean expected&quot;\n",
    "#### if another variable type is given.\n",
    "#### Examples\n",
    "#### reverse(True) ➞ False\n",
    "#### reverse(False) ➞ True\n",
    "#### reverse(0) ➞ &quot;boolean expected&quot;\n",
    "#### reverse(None) ➞ &quot;boolean expected&quot;"
   ]
  },
  {
   "cell_type": "code",
   "execution_count": 5,
   "metadata": {},
   "outputs": [
    {
     "name": "stdout",
     "output_type": "stream",
     "text": [
      "False\n",
      "True\n",
      "boolean expected\n",
      "boolean expected\n"
     ]
    }
   ],
   "source": [
    "def reverse(s):\n",
    "    if type(s)==bool:\n",
    "        p = not(s)\n",
    "        return p\n",
    "    else:\n",
    "        return \"boolean expected\"\n",
    "    \n",
    "print(reverse(True))\n",
    "print(reverse(False))\n",
    "print(reverse(0))\n",
    "print(reverse(None))"
   ]
  },
  {
   "cell_type": "markdown",
   "metadata": {},
   "source": [
    "#### Question3\n",
    "#### Create a function that returns the thickness (in meters) of a piece of paper after folding it n number of times. The paper starts off with a thickness of 0.5mm.\n",
    "#### Examples\n",
    "#### num_layers(1) ➞ \"0.001m\"\n",
    "#### Paper folded once is 1mm (equal to 0.001m)\n",
    "#### num_layers(4) ➞ \"0.008m\"\n",
    "#### Paper folded 4 times is 8mm (equal to 0.008m)\n",
    "#### num_layers(21) ➞ \"1048.576m\"\n",
    "#### Paper folded 21 times is 1048576mm (equal to 1048.576m)"
   ]
  },
  {
   "cell_type": "code",
   "execution_count": 8,
   "metadata": {},
   "outputs": [
    {
     "name": "stdout",
     "output_type": "stream",
     "text": [
      "0.008\n",
      "1048.576\n",
      "0.001\n"
     ]
    }
   ],
   "source": [
    "def num_layers(num):\n",
    "    k = 0.5 * (2**num)\n",
    "    k = k/1000\n",
    "    return k\n",
    "print(num_layers(4))\n",
    "print(num_layers(21))\n",
    "print(num_layers(1))"
   ]
  },
  {
   "cell_type": "markdown",
   "metadata": {},
   "source": [
    "#### Question4\n",
    "#### Create a function that takes a single string as argument and returns an ordered list containing the indices of all capital letters in the string.\n",
    "#### Examples\n",
    "#### index_of_caps(\"eDaBiT\") ➞ [1, 3, 5]\n",
    "#### index_of_caps(\"eQuINoX\") ➞ [1, 3, 4, 6]\n",
    "#### index_of_caps(\"determine\") ➞ []\n",
    "#### index_of_caps(\"STRIKE\") ➞ [0, 1, 2, 3, 4, 5]\n",
    "#### index_of_caps(\"sUn\") ➞ [1]"
   ]
  },
  {
   "cell_type": "code",
   "execution_count": 12,
   "metadata": {},
   "outputs": [
    {
     "name": "stdout",
     "output_type": "stream",
     "text": [
      "[1, 3, 5]\n",
      "[1, 3, 4, 6]\n",
      "[]\n",
      "[0, 1, 2, 3, 4, 5]\n",
      "[1]\n"
     ]
    }
   ],
   "source": [
    "def index_of_caps(s):\n",
    "    lst = [*s]\n",
    "    n_lst = []\n",
    "    for i in lst:\n",
    "        if i.isupper():\n",
    "            n_lst.append(lst.index(i))\n",
    "            \n",
    "    return n_lst\n",
    "\n",
    "print(index_of_caps(\"eDaBiT\"))\n",
    "print(index_of_caps(\"eQuINoX\"))\n",
    "print(index_of_caps(\"determine\"))\n",
    "print(index_of_caps(\"STRIKE\"))\n",
    "print(index_of_caps(\"sUn\"))"
   ]
  },
  {
   "cell_type": "markdown",
   "metadata": {},
   "source": [
    "#### Question5\n",
    "#### Using list comprehensions, create a function that finds all even numbers from 1 to the given number.\n",
    "#### Examples\n",
    "#### find_even_nums(8) ➞ [2, 4, 6, 8]\n",
    "#### find_even_nums(4) ➞ [2, 4]\n",
    "#### find_even_nums(2) ➞ [2]"
   ]
  },
  {
   "cell_type": "code",
   "execution_count": 17,
   "metadata": {},
   "outputs": [
    {
     "name": "stdout",
     "output_type": "stream",
     "text": [
      "[2, 4, 6, 8]\n",
      "[2, 4]\n",
      "[2]\n"
     ]
    }
   ],
   "source": [
    "def find_even_nums(n):\n",
    "    print([i for i in range(1,n+1) if i%2==0])\n",
    "    \n",
    "find_even_nums(8)   \n",
    "find_even_nums(4)\n",
    "find_even_nums(2) \n"
   ]
  },
  {
   "cell_type": "code",
   "execution_count": null,
   "metadata": {},
   "outputs": [],
   "source": []
  }
 ],
 "metadata": {
  "kernelspec": {
   "display_name": "Python 3",
   "language": "python",
   "name": "python3"
  },
  "language_info": {
   "codemirror_mode": {
    "name": "ipython",
    "version": 3
   },
   "file_extension": ".py",
   "mimetype": "text/x-python",
   "name": "python",
   "nbconvert_exporter": "python",
   "pygments_lexer": "ipython3",
   "version": "3.6.5"
  }
 },
 "nbformat": 4,
 "nbformat_minor": 2
}
