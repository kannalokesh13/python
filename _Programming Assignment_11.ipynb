{
 "cells": [
  {
   "cell_type": "markdown",
   "metadata": {},
   "source": [
    "#### 1. Write a Python program to find words which are greater than given length k?"
   ]
  },
  {
   "cell_type": "code",
   "execution_count": 2,
   "metadata": {},
   "outputs": [
    {
     "name": "stdout",
     "output_type": "stream",
     "text": [
      "['Write', 'Python', 'program', 'words', 'which', 'greater', 'given', 'length']\n"
     ]
    }
   ],
   "source": [
    "sen = \"Write a Python program to find words which are greater than given length k\"\n",
    "lst = sen.split()\n",
    "w = []\n",
    "for word in lst:\n",
    "    if len(word)>=5:\n",
    "        w.append(word)\n",
    "        \n",
    "print(w)\n",
    "    "
   ]
  },
  {
   "cell_type": "markdown",
   "metadata": {},
   "source": [
    "#### 2. Write a Python program for removing i-th character from a string?"
   ]
  },
  {
   "cell_type": "code",
   "execution_count": 4,
   "metadata": {},
   "outputs": [
    {
     "name": "stdout",
     "output_type": "stream",
     "text": [
      "loesh\n"
     ]
    }
   ],
   "source": [
    "word = 'lokesh'\n",
    "lst = [*word]\n",
    "i = 2\n",
    "lst.pop(i)\n",
    "w = ''.join(lst)\n",
    "print(w)"
   ]
  },
  {
   "cell_type": "markdown",
   "metadata": {},
   "source": [
    "#### 3. Write a Python program to split and join a string?"
   ]
  },
  {
   "cell_type": "code",
   "execution_count": 5,
   "metadata": {},
   "outputs": [
    {
     "name": "stdout",
     "output_type": "stream",
     "text": [
      "python\n",
      "['p', 'y', 't', 'h', 'o', 'n']\n",
      "python\n"
     ]
    }
   ],
   "source": [
    "word = 'python'\n",
    "print(word)\n",
    "lst = [*word]\n",
    "print(lst)\n",
    "w = ''.join(lst)\n",
    "print(w)"
   ]
  },
  {
   "cell_type": "markdown",
   "metadata": {},
   "source": [
    "#### 4. Write a Python to check if a given string is binary string or not?"
   ]
  },
  {
   "cell_type": "code",
   "execution_count": 6,
   "metadata": {},
   "outputs": [
    {
     "name": "stdout",
     "output_type": "stream",
     "text": [
      "101010 is a binary string\n"
     ]
    }
   ],
   "source": [
    "import re\n",
    "\n",
    "def is_binary_string(string):\n",
    "    pattern = r'^[01]+$'\n",
    "    return re.match(pattern, string) is not None\n",
    "\n",
    "string = '101010'\n",
    "if is_binary_string(string):\n",
    "    print(f\"{string} is a binary string\")\n",
    "else:\n",
    "    print(f\"{string} is not a binary string\")\n"
   ]
  },
  {
   "cell_type": "markdown",
   "metadata": {},
   "source": [
    "#### 5. Write a Python program to find uncommon words from two Strings?"
   ]
  },
  {
   "cell_type": "code",
   "execution_count": 7,
   "metadata": {},
   "outputs": [
    {
     "name": "stdout",
     "output_type": "stream",
     "text": [
      "Uncommon words: {'apple', 'a', 'banana', 'an'}\n"
     ]
    }
   ],
   "source": [
    "def find_uncommon_words(string1, string2):\n",
    "    words1 = set(string1.split())\n",
    "    words2 = set(string2.split())\n",
    "    uncommon_words = words1.symmetric_difference(words2)\n",
    "    return uncommon_words\n",
    "\n",
    "string1 = \"I have an apple\"\n",
    "string2 = \"I have a banana\"\n",
    "uncommon_words = find_uncommon_words(string1, string2)\n",
    "print(\"Uncommon words:\", uncommon_words)"
   ]
  },
  {
   "cell_type": "markdown",
   "metadata": {},
   "source": [
    "#### 6. Write a Python to find all duplicate characters in string?"
   ]
  },
  {
   "cell_type": "code",
   "execution_count": 8,
   "metadata": {},
   "outputs": [
    {
     "name": "stdout",
     "output_type": "stream",
     "text": [
      "Duplicate characters: {'o', 'l'}\n"
     ]
    }
   ],
   "source": [
    "def find_duplicate_characters(string):\n",
    "    duplicates = set()\n",
    "    encountered = set()\n",
    "\n",
    "    for char in string:\n",
    "        if char in encountered:\n",
    "            duplicates.add(char)\n",
    "        else:\n",
    "            encountered.add(char)\n",
    "\n",
    "    return duplicates\n",
    "\n",
    "string = \"Hello, World!\"\n",
    "duplicate_chars = find_duplicate_characters(string)\n",
    "print(\"Duplicate characters:\", duplicate_chars)\n"
   ]
  },
  {
   "cell_type": "markdown",
   "metadata": {},
   "source": [
    "#### 7. Write a Python Program to check if a string contains any special character?"
   ]
  },
  {
   "cell_type": "code",
   "execution_count": 9,
   "metadata": {},
   "outputs": [
    {
     "name": "stdout",
     "output_type": "stream",
     "text": [
      "String contains special characters\n"
     ]
    }
   ],
   "source": [
    "import re\n",
    "\n",
    "def contains_special_characters(string):\n",
    "    pattern = r'[!@#$%^&*(),.?\":{}|<>]'\n",
    "    return bool(re.search(pattern, string))\n",
    "\n",
    "string = \"Hello World!\"\n",
    "if contains_special_characters(string):\n",
    "    print(\"String contains special characters\")\n",
    "else:\n",
    "    print(\"String does not contain special characters\")\n"
   ]
  },
  {
   "cell_type": "code",
   "execution_count": null,
   "metadata": {},
   "outputs": [],
   "source": []
  }
 ],
 "metadata": {
  "kernelspec": {
   "display_name": "Python 3",
   "language": "python",
   "name": "python3"
  },
  "language_info": {
   "codemirror_mode": {
    "name": "ipython",
    "version": 3
   },
   "file_extension": ".py",
   "mimetype": "text/x-python",
   "name": "python",
   "nbconvert_exporter": "python",
   "pygments_lexer": "ipython3",
   "version": "3.6.5"
  }
 },
 "nbformat": 4,
 "nbformat_minor": 2
}
