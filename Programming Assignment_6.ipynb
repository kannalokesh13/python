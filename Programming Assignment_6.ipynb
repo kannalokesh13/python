{
 "cells": [
  {
   "cell_type": "markdown",
   "id": "b6fcff57",
   "metadata": {},
   "source": [
    "#### 1. Write a Python Program to Display Fibonacci Sequence Using Recursion?"
   ]
  },
  {
   "cell_type": "code",
   "execution_count": 1,
   "id": "fdef43e1",
   "metadata": {},
   "outputs": [
    {
     "name": "stdout",
     "output_type": "stream",
     "text": [
      "Enter the number of terms: 5\n",
      "Fibonacci sequence:\n",
      "0\n",
      "1\n",
      "1\n",
      "2\n",
      "3\n"
     ]
    }
   ],
   "source": [
    "def fibonacci(n):\n",
    "    if n <= 1:\n",
    "        return n\n",
    "    else:\n",
    "        return (fibonacci(n-1) + fibonacci(n-2))\n",
    "\n",
    "nterms = int(input(\"Enter the number of terms: \"))\n",
    "\n",
    "if nterms <= 0:\n",
    "    print(\"Please enter a positive integer\")\n",
    "else:\n",
    "    print(\"Fibonacci sequence:\")\n",
    "    for i in range(nterms):\n",
    "        print(fibonacci(i))\n"
   ]
  },
  {
   "cell_type": "markdown",
   "id": "f44d2cd2",
   "metadata": {},
   "source": [
    "#### 2. Write a Python Program to Find Factorial of Number Using Recursion?"
   ]
  },
  {
   "cell_type": "code",
   "execution_count": 2,
   "id": "83441e90",
   "metadata": {},
   "outputs": [
    {
     "name": "stdout",
     "output_type": "stream",
     "text": [
      "Enter a number: 5\n",
      "Factorial of 5 is 120\n"
     ]
    }
   ],
   "source": [
    "def factorial(n):\n",
    "    if n == 0 or n == 1:\n",
    "        return 1\n",
    "    else:\n",
    "        return n * factorial(n-1)\n",
    "\n",
    "num = int(input(\"Enter a number: \"))\n",
    "if num < 0:\n",
    "    print(\"Factorial cannot be found for negative numbers\")\n",
    "elif num == 0:\n",
    "    print(\"Factorial of 0 is 1\")\n",
    "else:\n",
    "    print(\"Factorial of\", num, \"is\", factorial(num))\n"
   ]
  },
  {
   "cell_type": "markdown",
   "id": "0f76b05c",
   "metadata": {},
   "source": [
    "#### 3. Write a Python Program to calculate your Body Mass Index?"
   ]
  },
  {
   "cell_type": "code",
   "execution_count": 3,
   "id": "e7a92580",
   "metadata": {},
   "outputs": [
    {
     "name": "stdout",
     "output_type": "stream",
     "text": [
      "Enter your weight in kilograms: 60\n",
      "Enter your height in meters: 6\n",
      "Your BMI is: 1.6666666666666667\n"
     ]
    }
   ],
   "source": [
    "def calculate_bmi(weight, height):\n",
    "    bmi = weight / (height ** 2)\n",
    "    return bmi\n",
    "\n",
    "weight = float(input(\"Enter your weight in kilograms: \"))\n",
    "height = float(input(\"Enter your height in meters: \"))\n",
    "\n",
    "bmi = calculate_bmi(weight, height)\n",
    "\n",
    "print(\"Your BMI is:\", bmi)\n"
   ]
  },
  {
   "cell_type": "markdown",
   "id": "eda102af",
   "metadata": {},
   "source": [
    "#### 4. Write a Python Program to calculate the natural logarithm of any number?#### "
   ]
  },
  {
   "cell_type": "code",
   "execution_count": 5,
   "id": "23bb9915",
   "metadata": {},
   "outputs": [
    {
     "name": "stdout",
     "output_type": "stream",
     "text": [
      "enter any number1\n",
      "0.0\n"
     ]
    }
   ],
   "source": [
    "import numpy as np\n",
    "num = int(input(\"enter any number\"))\n",
    "print(np.log(num))"
   ]
  },
  {
   "cell_type": "markdown",
   "id": "7b5a3718",
   "metadata": {},
   "source": [
    "#### 5. Write a Python Program for cube sum of first n natural numbers?"
   ]
  },
  {
   "cell_type": "code",
   "execution_count": 6,
   "id": "0ea6dd16",
   "metadata": {},
   "outputs": [
    {
     "name": "stdout",
     "output_type": "stream",
     "text": [
      "enter any positive integer3\n",
      "36.0\n"
     ]
    }
   ],
   "source": [
    "import math\n",
    "num = int(input(\"enter any positive integer\"))\n",
    "sum = 0\n",
    "for i in range(1,num+1):\n",
    "    k = math.pow(i,3)\n",
    "    sum+=k\n",
    "print(sum)"
   ]
  },
  {
   "cell_type": "code",
   "execution_count": null,
   "id": "3d81a6e6",
   "metadata": {},
   "outputs": [],
   "source": []
  }
 ],
 "metadata": {
  "kernelspec": {
   "display_name": "Python 3 (ipykernel)",
   "language": "python",
   "name": "python3"
  },
  "language_info": {
   "codemirror_mode": {
    "name": "ipython",
    "version": 3
   },
   "file_extension": ".py",
   "mimetype": "text/x-python",
   "name": "python",
   "nbconvert_exporter": "python",
   "pygments_lexer": "ipython3",
   "version": "3.9.7"
  }
 },
 "nbformat": 4,
 "nbformat_minor": 5
}
