{
 "cells": [
  {
   "cell_type": "markdown",
   "metadata": {},
   "source": [
    "#### Question 1:\n",
    "#### Define a class with a generator which can iterate the numbers, which are divisible by 7, between a given range 0 and n."
   ]
  },
  {
   "cell_type": "code",
   "execution_count": 1,
   "metadata": {},
   "outputs": [
    {
     "name": "stdout",
     "output_type": "stream",
     "text": [
      "Enter the value of n: 100\n",
      "Numbers divisible by 7:\n",
      "0\n",
      "7\n",
      "14\n",
      "21\n",
      "28\n",
      "35\n",
      "42\n",
      "49\n",
      "56\n",
      "63\n",
      "70\n",
      "77\n",
      "84\n",
      "91\n",
      "98\n"
     ]
    }
   ],
   "source": [
    "class DivisibleBySeven:\n",
    "    def __init__(self, n):\n",
    "        self.n = n\n",
    "\n",
    "    def divisible_by_seven_generator(self):\n",
    "        for num in range(self.n + 1):\n",
    "            if num % 7 == 0:\n",
    "                yield num\n",
    "\n",
    "n = int(input(\"Enter the value of n: \"))\n",
    "numbers = DivisibleBySeven(n).divisible_by_seven_generator()\n",
    "\n",
    "print(\"Numbers divisible by 7:\")\n",
    "for num in numbers:\n",
    "    print(num)"
   ]
  },
  {
   "cell_type": "markdown",
   "metadata": {},
   "source": [
    "#### Question 2:\n",
    "#### Write a program to compute the frequency of the words from the input. The output\n",
    "#### should output after sorting the key alphanumerically.\n",
    "#### Suppose the following input is supplied to the program:\n",
    "#### New to Python or choosing between Python 2 and Python 3? Read Python 2 orPython 3.\n",
    "#### Then, the output should be:\n",
    "#### 2:2\n",
    "#### 3.:1\n",
    "#### New:1\n",
    "#### Python:5\n",
    "#### Read:1\n",
    "#### and:1\n",
    "#### between:1\n",
    "#### choosing:1\n",
    "#### or:2\n",
    "#### to:1"
   ]
  },
  {
   "cell_type": "code",
   "execution_count": 9,
   "metadata": {},
   "outputs": [
    {
     "name": "stdout",
     "output_type": "stream",
     "text": [
      "enter the sentesnceNew to Python or choosing between Python 2 and Python 3 Read Python 2 orPython 3\n",
      "2 : 2\n",
      "3 : 2\n",
      "New : 1\n",
      "Python : 4\n",
      "Read : 1\n",
      "and : 1\n",
      "between : 1\n",
      "choosing : 1\n",
      "or : 1\n",
      "orPython : 1\n",
      "to : 1\n"
     ]
    }
   ],
   "source": [
    "dic = {}\n",
    "inp = input(\"enter the sentesnce\")\n",
    "lst = inp.split()\n",
    "s = list(set(lst))\n",
    "for i in s:\n",
    "    dic[i]=lst.count(i)\n",
    "    \n",
    "p_lst = []\n",
    "for i in dic.keys():\n",
    "    p_lst.append(i)\n",
    "# print(p_lst)\n",
    "n_lst = sorted(p_lst)\n",
    "# print(dic)\n",
    "# print(n_lst)\n",
    "for j in n_lst:\n",
    "    print(f\"{j} : {dic[j]}\")"
   ]
  },
  {
   "cell_type": "markdown",
   "metadata": {},
   "source": [
    "#### Question 3:\n",
    "#### Define a class Person and its two child classes: Male and Female. All classes have a method &quot;getGender&quot; which can print &quot;Male&quot; for Male class and &quot;Female&quot; for Female class."
   ]
  },
  {
   "cell_type": "code",
   "execution_count": 11,
   "metadata": {},
   "outputs": [
    {
     "name": "stdout",
     "output_type": "stream",
     "text": [
      "person\n",
      "Male\n",
      "female\n"
     ]
    }
   ],
   "source": [
    "class Person:\n",
    "    def getGender(self):\n",
    "        print(\"person\")\n",
    "        \n",
    "class Male(Person):\n",
    "    def getGender(self):\n",
    "        print(\"Male\")\n",
    "        \n",
    "class Female(Person):\n",
    "    def getGender(self):\n",
    "        print(\"female\")\n",
    "        \n",
    "p = Person()\n",
    "p.getGender()\n",
    "\n",
    "m=Male()\n",
    "m.getGender()\n",
    "\n",
    "f=Female()\n",
    "f.getGender()"
   ]
  },
  {
   "cell_type": "markdown",
   "metadata": {},
   "source": [
    "#### Question 4:\n",
    "#### Please write a program to generate all sentences where subject is in [\"I\", \"You\"] and verb is in [\"Play\", \"Love\"] and the object is in [\"Hockey\",\"Football\"]."
   ]
  },
  {
   "cell_type": "code",
   "execution_count": 14,
   "metadata": {},
   "outputs": [
    {
     "name": "stdout",
     "output_type": "stream",
     "text": [
      "I Play Hockey\n",
      "I Play Football\n",
      "I Love Hockey\n",
      "I Love Football\n",
      "You Play Hockey\n",
      "You Play Football\n",
      "You Love Hockey\n",
      "You Love Football\n"
     ]
    }
   ],
   "source": [
    "import random\n",
    "sub = [\"I\",\"You\"]\n",
    "verb = [\"Play\",\"Love\"]\n",
    "obj = [\"Hockey\",\"Football\"]\n",
    "sc = []\n",
    "\n",
    "for s in sub:\n",
    "    for v in verb:\n",
    "        for o in obj:\n",
    "            sen = f\"{s} {v} {o}\"\n",
    "            sc.append(sen)\n",
    "            \n",
    "for j in sc:\n",
    "    print(j)"
   ]
  },
  {
   "cell_type": "markdown",
   "metadata": {},
   "source": [
    "#### Question 5:\n",
    "#### Please write a program to compress and decompress the string &quot;hello world!hello world!hello world!hello world!&quot;."
   ]
  },
  {
   "cell_type": "code",
   "execution_count": 15,
   "metadata": {},
   "outputs": [
    {
     "name": "stdout",
     "output_type": "stream",
     "text": [
      "Compressed data: b'x\\x9c\\xcbH\\xcd\\xc9\\xc9W(\\xcf/\\xcaIQ\\xcc \\x82\\r\\x00\\xbd[\\x11\\xf5'\n",
      "Decompressed string: hello world!hello world!hello world!hello world!\n"
     ]
    }
   ],
   "source": [
    "import zlib\n",
    "\n",
    "def compress_string(string):\n",
    "    compressed_data = zlib.compress(string.encode())\n",
    "    return compressed_data\n",
    "\n",
    "def decompress_string(compressed_data):\n",
    "    decompressed_string = zlib.decompress(compressed_data).decode()\n",
    "    return decompressed_string\n",
    "\n",
    "original_string = \"hello world!hello world!hello world!hello world!\"\n",
    "\n",
    "compressed_data = compress_string(original_string)\n",
    "print(\"Compressed data:\", compressed_data)\n",
    "\n",
    "decompressed_string = decompress_string(compressed_data)\n",
    "print(\"Decompressed string:\", decompressed_string)"
   ]
  },
  {
   "cell_type": "code",
   "execution_count": null,
   "metadata": {},
   "outputs": [],
   "source": []
  }
 ],
 "metadata": {
  "kernelspec": {
   "display_name": "Python 3",
   "language": "python",
   "name": "python3"
  },
  "language_info": {
   "codemirror_mode": {
    "name": "ipython",
    "version": 3
   },
   "file_extension": ".py",
   "mimetype": "text/x-python",
   "name": "python",
   "nbconvert_exporter": "python",
   "pygments_lexer": "ipython3",
   "version": "3.6.5"
  }
 },
 "nbformat": 4,
 "nbformat_minor": 2
}
