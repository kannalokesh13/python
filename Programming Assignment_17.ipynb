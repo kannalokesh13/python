{
 "cells": [
  {
   "cell_type": "markdown",
   "metadata": {},
   "source": [
    "#### Question1. Create a function that takes three arguments a, b, c and returns the sum of the numbers that are evenly divided by c from the range a, b inclusive.\n",
    "#### Examples\n",
    "#### evenly_divisible(1, 10, 20) ➞ 0\n",
    "#### No number between 1 and 10 can be evenly divided by 20.\n",
    "#### evenly_divisible(1, 10, 2) ➞ 30\n",
    "#### 2 + 4 + 6 + 8 + 10 = 30\n",
    "#### evenly_divisible(1, 10, 3) ➞ 18\n",
    "#### 3 + 6 + 9 = 18"
   ]
  },
  {
   "cell_type": "code",
   "execution_count": 11,
   "metadata": {},
   "outputs": [
    {
     "name": "stdout",
     "output_type": "stream",
     "text": [
      "0\n",
      "30\n",
      "18\n"
     ]
    }
   ],
   "source": [
    "import numpy as np\n",
    "def evenly_divisible(start,end,diff):\n",
    "    arr = np.arange(0,end+1,diff)\n",
    "    return sum(arr)\n",
    "\n",
    "print(evenly_divisible(1,10,20))\n",
    "print(evenly_divisible(1,10,2))\n",
    "print(evenly_divisible(1,10,3))"
   ]
  },
  {
   "cell_type": "markdown",
   "metadata": {},
   "source": [
    "#### Question2. Create a function that returns True if a given inequality expression is correct and False otherwise.\n",
    "#### Examples\n",
    "#### correct_signs(&quot;3 &lt; 7 &lt; 11&quot;) ➞ True\n",
    "#### correct_signs(&quot;13 &gt; 44 &gt; 33 &gt; 1&quot;) ➞ False\n",
    "#### correct_signs(&quot;1 &lt; 2 &lt; 6 &lt; 9 &gt; 3&quot;) ➞ True"
   ]
  },
  {
   "cell_type": "code",
   "execution_count": 14,
   "metadata": {},
   "outputs": [
    {
     "name": "stdout",
     "output_type": "stream",
     "text": [
      "True\n",
      "False\n",
      "True\n"
     ]
    }
   ],
   "source": [
    "def correct_signs(exp):\n",
    "    return eval(exp)\n",
    "\n",
    "print(correct_signs(\"3 < 7 < 11\"))\n",
    "print(correct_signs(\"13 > 44 > 33 > 1\"))\n",
    "print(correct_signs(\"1 < 2 < 6 < 9 > 3\"))"
   ]
  },
  {
   "cell_type": "markdown",
   "metadata": {},
   "source": [
    "#### Question3. Create a function that replaces all the vowels in a string with a specified character.\n",
    "#### Examples\n",
    "#### replace_vowels(\"the aardvark\", \"#\") ➞ :th# ##rdv#rk\"\n",
    "#### replace_vowels(\"minnie mouse\", \"?\") ➞ \"m?nn?? m??s?\"\n",
    "#### replace_vowels(\"shakespeare\", \"*\") ➞ \"sh*k*sp**r*\""
   ]
  },
  {
   "cell_type": "code",
   "execution_count": 23,
   "metadata": {},
   "outputs": [
    {
     "name": "stdout",
     "output_type": "stream",
     "text": [
      "th# ##rdv#rk\n",
      "m?nn?? m??s?\n",
      "sh*k*sp**r*\n"
     ]
    }
   ],
   "source": [
    "def replace_vowels(s,p):\n",
    "    vowels = ['a','e','i','o','u']\n",
    "    s = [*s]\n",
    "    for i in range(len(s)):\n",
    "        if s[i] in vowels:\n",
    "            s[i] = p\n",
    "    s = ''.join(s)\n",
    "    return s\n",
    "\n",
    "print(replace_vowels(\"the aardvark\",\"#\"))\n",
    "print(replace_vowels(\"minnie mouse\", \"?\"))\n",
    "print(replace_vowels(\"shakespeare\", \"*\"))"
   ]
  },
  {
   "cell_type": "markdown",
   "metadata": {},
   "source": [
    "#### Question4. Write a function that calculates the factorial of a number recursively.\n",
    "#### Examples\n",
    "#### factorial(5) ➞ 120\n",
    "#### factorial(3) ➞ 6\n",
    "#### factorial(1) ➞ 1\n",
    "#### factorial(0) ➞ 1"
   ]
  },
  {
   "cell_type": "code",
   "execution_count": 27,
   "metadata": {},
   "outputs": [
    {
     "name": "stdout",
     "output_type": "stream",
     "text": [
      "120\n",
      "6\n",
      "1\n",
      "1\n"
     ]
    }
   ],
   "source": [
    "res= 0\n",
    "def fact(n):\n",
    "    if n==0 or n==1:\n",
    "        return 1\n",
    "    else:\n",
    "        return n*fact(n-1)\n",
    "    \n",
    "print(fact(5))\n",
    "print(fact(3))\n",
    "print(fact(1))\n",
    "print(fact(0))"
   ]
  },
  {
   "cell_type": "markdown",
   "metadata": {},
   "source": [
    "#### Question 5\n",
    "#### Hamming distance is the number of characters that differ between two strings.\n",
    "#### To illustrate:\n",
    "#### String1: \"abcbba\"\n",
    "#### String2: \"abcbda\"\n",
    "#### Hamming Distance: 1 - \"b\" vs.\"d\" is the only difference.\n",
    "#### Create a function that computes the hamming distance between two strings.\n",
    "#### Examples\n",
    "#### hamming_distance(\"abcde\", \"bcdef\") ➞ 5\n",
    "#### hamming_distance(\"abcde\", \"abcde\") ➞ 0\n",
    "#### hamming_distance(\"strong\", \"strung\") ➞ 1"
   ]
  },
  {
   "cell_type": "code",
   "execution_count": 29,
   "metadata": {},
   "outputs": [
    {
     "name": "stdout",
     "output_type": "stream",
     "text": [
      "5\n",
      "0\n",
      "1\n"
     ]
    }
   ],
   "source": [
    "def hamming_distance(s1,s2):\n",
    "    p=0\n",
    "    lst1 = [*s1]\n",
    "    lst2 = [*s2]\n",
    "    for i in range(len(s1)):\n",
    "        if lst1[i]!=lst2[i]:\n",
    "            p+=1\n",
    "        else:\n",
    "            pass\n",
    "    return p\n",
    "\n",
    "print(hamming_distance(\"abcde\",\"bcdef\"))\n",
    "print(hamming_distance(\"abcde\", \"abcde\")) \n",
    "print(hamming_distance(\"strong\", \"strung\"))"
   ]
  },
  {
   "cell_type": "code",
   "execution_count": null,
   "metadata": {},
   "outputs": [],
   "source": []
  }
 ],
 "metadata": {
  "kernelspec": {
   "display_name": "Python 3",
   "language": "python",
   "name": "python3"
  },
  "language_info": {
   "codemirror_mode": {
    "name": "ipython",
    "version": 3
   },
   "file_extension": ".py",
   "mimetype": "text/x-python",
   "name": "python",
   "nbconvert_exporter": "python",
   "pygments_lexer": "ipython3",
   "version": "3.6.5"
  }
 },
 "nbformat": 4,
 "nbformat_minor": 2
}
