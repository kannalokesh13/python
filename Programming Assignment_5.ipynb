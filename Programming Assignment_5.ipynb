{
 "cells": [
  {
   "cell_type": "markdown",
   "id": "03ca6bc1",
   "metadata": {},
   "source": [
    "#### 1. Write a Python Program to Find LCM?"
   ]
  },
  {
   "cell_type": "code",
   "execution_count": 1,
   "id": "23ecf918",
   "metadata": {},
   "outputs": [
    {
     "name": "stdout",
     "output_type": "stream",
     "text": [
      "Enter first number: 12\n",
      "Enter second number: 18\n",
      "The LCM of 12 and 18 is: 36\n"
     ]
    }
   ],
   "source": [
    "def gcd(a, b):\n",
    "    if b == 0:\n",
    "        return a\n",
    "    else:\n",
    "        return gcd(b, a % b)\n",
    "\n",
    "def lcm(num1, num2):\n",
    "    return (num1 * num2) // gcd(num1, num2)\n",
    "\n",
    "num1 = int(input(\"Enter first number: \"))\n",
    "num2 = int(input(\"Enter second number: \"))\n",
    "\n",
    "result = lcm(num1, num2)\n",
    "print(f\"The LCM of {num1} and {num2} is: {result}\")\n"
   ]
  },
  {
   "cell_type": "markdown",
   "id": "fe3c0fe8",
   "metadata": {},
   "source": [
    "#### 2. Write a Python Program to Find HCF?"
   ]
  },
  {
   "cell_type": "code",
   "execution_count": 2,
   "id": "51c6f873",
   "metadata": {},
   "outputs": [
    {
     "data": {
      "text/plain": [
       "12"
      ]
     },
     "execution_count": 2,
     "metadata": {},
     "output_type": "execute_result"
    }
   ],
   "source": [
    "def find_hcf(a, b):\n",
    "    if a < b:\n",
    "        a, b = b, a\n",
    "    r = a % b\n",
    " \n",
    "    if r == 0:\n",
    "        return b\n",
    "    else:\n",
    "        return find_hcf(b, r)\n",
    "    \n",
    "find_hcf(24, 36)"
   ]
  },
  {
   "cell_type": "markdown",
   "id": "118ad363",
   "metadata": {},
   "source": [
    "#### 3. Write a Python Program to Convert Decimal to Binary, Octal and Hexadecimal?"
   ]
  },
  {
   "cell_type": "code",
   "execution_count": 3,
   "id": "acbe5f04",
   "metadata": {},
   "outputs": [
    {
     "name": "stdout",
     "output_type": "stream",
     "text": [
      "enter any number23\n",
      "0b10111\n",
      "0o27\n",
      "0x17\n"
     ]
    }
   ],
   "source": [
    "num = int(input(\"enter any number\"))\n",
    "print(bin(num))\n",
    "print(oct(num))\n",
    "print(hex(num))"
   ]
  },
  {
   "cell_type": "markdown",
   "id": "5ad7b4ce",
   "metadata": {},
   "source": [
    "##### 4. Write a Python Program To Find ASCII value of a character?"
   ]
  },
  {
   "cell_type": "code",
   "execution_count": 7,
   "id": "dc2cfc4e",
   "metadata": {},
   "outputs": [
    {
     "name": "stdout",
     "output_type": "stream",
     "text": [
      "enter any charactreA\n",
      "65\n"
     ]
    }
   ],
   "source": [
    "c = input(\"enter any charactre\")\n",
    "k=ord(c)\n",
    "print(k)"
   ]
  },
  {
   "cell_type": "markdown",
   "id": "9895b14c",
   "metadata": {},
   "source": [
    "#### 5. Write a Python Program to Make a Simple Calculator with 4 basic mathematical operations?"
   ]
  },
  {
   "cell_type": "code",
   "execution_count": 9,
   "id": "cb05dc60",
   "metadata": {},
   "outputs": [
    {
     "name": "stdout",
     "output_type": "stream",
     "text": [
      "enter any number from 1 to 4, which indicates the from addition to the division1\n",
      "enter any number2\n",
      "enter any number3\n",
      "5\n"
     ]
    }
   ],
   "source": [
    "num = int(input(\"enter any number from 1 to 4, which indicates the from addition to the division\"))\n",
    "n1 = int(input(\"enter any number\"))\n",
    "n2 = int(input(\"enter any number\"))\n",
    "if num==1:\n",
    "    print(n1+n2)\n",
    "elif num==2:\n",
    "    print(n1-n2)\n",
    "elif num==3:\n",
    "    print(n1*n2)\n",
    "else:\n",
    "    print(n1/n2)"
   ]
  },
  {
   "cell_type": "code",
   "execution_count": null,
   "id": "9084b244",
   "metadata": {},
   "outputs": [],
   "source": []
  }
 ],
 "metadata": {
  "kernelspec": {
   "display_name": "Python 3 (ipykernel)",
   "language": "python",
   "name": "python3"
  },
  "language_info": {
   "codemirror_mode": {
    "name": "ipython",
    "version": 3
   },
   "file_extension": ".py",
   "mimetype": "text/x-python",
   "name": "python",
   "nbconvert_exporter": "python",
   "pygments_lexer": "ipython3",
   "version": "3.9.7"
  }
 },
 "nbformat": 4,
 "nbformat_minor": 5
}
