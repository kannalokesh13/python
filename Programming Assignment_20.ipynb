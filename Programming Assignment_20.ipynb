{
 "cells": [
  {
   "cell_type": "markdown",
   "metadata": {},
   "source": [
    "#### Question1\n",
    "#### Create a function that takes a list of strings and integers, and filters out the list so that it returns a list of integers only.\n",
    "#### Examples\n",
    "#### filter_list([1, 2, 3, \"a\", \"b\", 4]) ➞ [1, 2, 3, 4]\n",
    "#### filter_list([\"A\", 0, \"Edabit\", 1729, \"Python\", \"1729\"]) ➞ [0, 1729]\n",
    "#### filter_list([\"Nothing\", \"here\"]) ➞ []"
   ]
  },
  {
   "cell_type": "code",
   "execution_count": 1,
   "metadata": {},
   "outputs": [
    {
     "name": "stdout",
     "output_type": "stream",
     "text": [
      "[1, 2, 3, 4]\n",
      "[0, 1729]\n",
      "[]\n"
     ]
    }
   ],
   "source": [
    "def filter_list(lst):\n",
    "    n_lst = []\n",
    "    for i in lst:\n",
    "        if type(i)!=str:\n",
    "            n_lst.append(i)\n",
    "            \n",
    "    return n_lst\n",
    "print(filter_list([1, 2, 3, \"a\", \"b\", 4]))\n",
    "print(filter_list([\"A\", 0, \"Edabit\", 1729, \"Python\", \"1729\"]))\n",
    "print(filter_list([\"Nothing\", \"here\"]))"
   ]
  },
  {
   "cell_type": "markdown",
   "metadata": {},
   "source": [
    "#### Question2\n",
    "#### Given a list of numbers, create a function which returns the list but with each element&#39;s index in the list added to itself. This means you add 0 to the number at index 0, add 1 to the number at index 1, etc...\n",
    "#### Examples\n",
    "#### add_indexes([0, 0, 0, 0, 0]) ➞ [0, 1, 2, 3, 4]\n",
    "#### add_indexes([1, 2, 3, 4, 5]) ➞ [1, 3, 5, 7, 9]\n",
    "#### add_indexes([5, 4, 3, 2, 1]) ➞ [5, 5, 5, 5, 5]"
   ]
  },
  {
   "cell_type": "code",
   "execution_count": 3,
   "metadata": {},
   "outputs": [
    {
     "name": "stdout",
     "output_type": "stream",
     "text": [
      "[0, 1, 2, 3, 4]\n",
      "[1, 3, 5, 7, 9]\n",
      "[5, 5, 5, 5, 5]\n"
     ]
    }
   ],
   "source": [
    "def add_indexes(lst):\n",
    "    return [i + val for i, val in enumerate(lst)]\n",
    "print(add_indexes([0, 0, 0, 0, 0]))\n",
    "print(add_indexes([1, 2, 3, 4, 5]))\n",
    "print(add_indexes([5, 4, 3, 2, 1]))\n"
   ]
  },
  {
   "cell_type": "markdown",
   "metadata": {},
   "source": [
    "#### Question3\n",
    "#### Create a function that takes the height and radius of a cone as arguments and returns the volume of the cone rounded to the nearest hundredth. See the resources tab for the formula.\n",
    "\n",
    "#### Examples\n",
    "#### cone_volume(3, 2) ➞ 12.57\n",
    "#### cone_volume(15, 6) ➞ 565.49\n",
    "#### cone_volume(18, 0) ➞ 0"
   ]
  },
  {
   "cell_type": "code",
   "execution_count": 5,
   "metadata": {},
   "outputs": [
    {
     "name": "stdout",
     "output_type": "stream",
     "text": [
      "75.39822368615503\n",
      "5654.8667764616275\n",
      "0.0\n"
     ]
    }
   ],
   "source": [
    "import math\n",
    "def cone_volume(r,h):\n",
    "    a = 4/3\n",
    "    s = math.pi\n",
    "    r = r**2\n",
    "    z = a*s*r*h\n",
    "    \n",
    "    return z\n",
    "\n",
    "print(cone_volume(3,2))\n",
    "print(cone_volume(15,6))\n",
    "print(cone_volume(18,0))"
   ]
  },
  {
   "cell_type": "markdown",
   "metadata": {},
   "source": [
    "#### Question4\n",
    "#### This Triangular Number Sequence is generated from a pattern of dots that form a triangle. The first 5 numbers of the sequence, or dots, are:\n",
    "#### 1, 3, 6, 10, 15\n",
    "#### This means that the first triangle has just one dot, the second one has three dots, the third one has 6 dots and so on.\n",
    "#### Write a function that gives the number of dots with its corresponding triangle number of the sequence.\n",
    "#### Examples\n",
    "#### triangle(1) ➞ 1\n",
    "#### triangle(6) ➞ 21\n",
    "#### triangle(215) ➞ 23220"
   ]
  },
  {
   "cell_type": "code",
   "execution_count": 6,
   "metadata": {},
   "outputs": [
    {
     "name": "stdout",
     "output_type": "stream",
     "text": [
      "1\n",
      "21\n",
      "23220\n"
     ]
    }
   ],
   "source": [
    "def triangle(n):\n",
    "    return (n * (n + 1)) // 2\n",
    "\n",
    "print(triangle(1))\n",
    "print(triangle(6))  \n",
    "print(triangle(215))\n"
   ]
  },
  {
   "cell_type": "markdown",
   "metadata": {},
   "source": [
    "#### Question5\n",
    "#### Create a function that takes a list of numbers between 1 and 10 (excluding one number) and returns the missing number.\n",
    "#### Examples\n",
    "#### missing_num([1, 2, 3, 4, 6, 7, 8, 9, 10]) ➞ 5\n",
    "#### missing_num([7, 2, 3, 6, 5, 9, 1, 4, 8]) ➞ 10\n",
    "#### missing_num([10, 5, 1, 2, 4, 6, 8, 3, 9]) ➞ 7"
   ]
  },
  {
   "cell_type": "code",
   "execution_count": 12,
   "metadata": {},
   "outputs": [
    {
     "name": "stdout",
     "output_type": "stream",
     "text": [
      "5\n",
      "10\n",
      "7\n"
     ]
    }
   ],
   "source": [
    "def missing_num(nums):\n",
    "    expected_sum = (10 * (10 + 1)) // 2\n",
    "    actual_sum = sum(nums)\n",
    "    missing_number = expected_sum - actual_sum\n",
    "    return missing_number\n",
    "\n",
    "print(missing_num([1, 2, 3, 4, 6, 7, 8, 9, 10]))  \n",
    "print(missing_num([7, 2, 3, 6, 5, 9, 1, 4, 8]))   \n",
    "print(missing_num([10, 5, 1, 2, 4, 6, 8, 3, 9]))\n"
   ]
  },
  {
   "cell_type": "code",
   "execution_count": null,
   "metadata": {},
   "outputs": [],
   "source": []
  }
 ],
 "metadata": {
  "kernelspec": {
   "display_name": "Python 3",
   "language": "python",
   "name": "python3"
  },
  "language_info": {
   "codemirror_mode": {
    "name": "ipython",
    "version": 3
   },
   "file_extension": ".py",
   "mimetype": "text/x-python",
   "name": "python",
   "nbconvert_exporter": "python",
   "pygments_lexer": "ipython3",
   "version": "3.6.5"
  }
 },
 "nbformat": 4,
 "nbformat_minor": 2
}
