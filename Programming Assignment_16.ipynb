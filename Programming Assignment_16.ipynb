{
 "cells": [
  {
   "cell_type": "markdown",
   "metadata": {},
   "source": [
    "#### Question1. Write a function that stutters a word as if someone is struggling to read it. The first two letters are repeated twice with an ellipsis ... and space after each, and then the word is pronounced with a question mark ?.\n",
    "#### Examples\n",
    "#### stutter(\"incredible\") ➞ \"in... in... incredible?\"\n",
    "#### stutter(\"enthusiastic\") ➞ \"en... en... enthusiastic?\"\n",
    "#### stutter(\"outstanding\") ➞ \"ou... ou... outstanding?\"\n",
    "\n",
    "#### Hint :- Assume all input is in lower case and at least two characters long."
   ]
  },
  {
   "cell_type": "code",
   "execution_count": 1,
   "metadata": {},
   "outputs": [
    {
     "name": "stdout",
     "output_type": "stream",
     "text": [
      "\"in... in... incredible?\"\n",
      "\"en... en... enthusiastic?\"\n",
      "\"ou... ou... outstanding?\"\n"
     ]
    }
   ],
   "source": [
    "def stutter(s):\n",
    "    lst=[*s]\n",
    "    sm = lst[0]+lst[1]\n",
    "    fm = ''.join(lst)\n",
    "    print(f'\"{sm}... {sm}... {fm}?\"')\n",
    "    \n",
    "stutter(\"incredible\")\n",
    "stutter(\"enthusiastic\")\n",
    "stutter(\"outstanding\")"
   ]
  },
  {
   "cell_type": "markdown",
   "metadata": {},
   "source": [
    "##### Question 2.Create a function that takes an angle in radians and returns the corresponding angle in degrees rounded to one decimal place.\n",
    "##### Examples\n",
    "#### radians_to_degrees(1) ➞ 57.3\n",
    "#### radians_to_degrees(20) ➞ 1145.9\n",
    "#### radians_to_degrees(50) ➞ 2864.8"
   ]
  },
  {
   "cell_type": "code",
   "execution_count": 2,
   "metadata": {},
   "outputs": [
    {
     "name": "stdout",
     "output_type": "stream",
     "text": [
      "57.3\n",
      "1145.9\n",
      "2864.8\n"
     ]
    }
   ],
   "source": [
    "import math\n",
    "\n",
    "def radians_to_degrees(angle_radians):\n",
    "    angle_degrees = math.degrees(angle_radians)\n",
    "    rounded_angle = round(angle_degrees, 1)\n",
    "    return rounded_angle\n",
    "    \n",
    "print(radians_to_degrees(1))\n",
    "print(radians_to_degrees(20))\n",
    "print(radians_to_degrees(50))"
   ]
  },
  {
   "cell_type": "markdown",
   "metadata": {},
   "source": [
    "#### Question 3. In this challenge, establish if a given integer num is a Curzon number. If 1 plus 2 elevated to num is exactly divisible by 1 plus 2 multiplied by num, then num is a Curzon number.\n",
    "#### Given a non-negative integer num, implement a function that returns True if num is a Curzon number, or False otherwise.\n",
    "#### Examples\n",
    "#### is_curzon(5) ➞ True\n",
    "#### 2 ** 5 + 1 = 33\n",
    "#### 2 * 5 + 1 = 11\n",
    "#### 33 is a multiple of 11\n",
    "#### is_curzon(10) ➞ False\n",
    "#### 2 ** 10 + 1 = 1025\n",
    "#### 2 * 10 + 1 = 21\n",
    "#### 1025 is not a multiple of 21\n",
    "#### is_curzon(14) ➞ True\n",
    "#### 2 ** 14 + 1 = 16385\n",
    "#### 2 * 14 + 1 = 29\n",
    "#### 16385 is a multiple of 29"
   ]
  },
  {
   "cell_type": "code",
   "execution_count": 4,
   "metadata": {},
   "outputs": [
    {
     "name": "stdout",
     "output_type": "stream",
     "text": [
      "False\n",
      "True\n",
      "True\n"
     ]
    }
   ],
   "source": [
    "import math\n",
    "def is_curzon(num):\n",
    "    r = math.pow(2,num)\n",
    "    r+=1\n",
    "    k = 2*num\n",
    "    k+=1\n",
    "    if r%k == 0:\n",
    "        return True\n",
    "    else:\n",
    "        return False\n",
    "print(is_curzon(10))\n",
    "print(is_curzon(14))\n",
    "print(is_curzon(5))"
   ]
  },
  {
   "cell_type": "markdown",
   "metadata": {},
   "source": [
    "#### Question 4.Given the side length x find the area of a hexagon.\n",
    "#### Examples\n",
    "#### area_of_hexagon(1) ➞ 2.6\n",
    "#### area_of_hexagon(2) ➞ 10.4\n",
    "#### area_of_hexagon(3) ➞ 23.4"
   ]
  },
  {
   "cell_type": "code",
   "execution_count": 8,
   "metadata": {},
   "outputs": [
    {
     "name": "stdout",
     "output_type": "stream",
     "text": [
      "2.598076211353316\n",
      "10.392304845413264\n",
      "23.382685902179844\n"
     ]
    }
   ],
   "source": [
    "import math\n",
    "def area(x):\n",
    "    a = (3*(math.sqrt(3))*x*x)/2\n",
    "    return a\n",
    "print(area(1))\n",
    "print(area(2))\n",
    "print(area(3))"
   ]
  },
  {
   "cell_type": "markdown",
   "metadata": {},
   "source": [
    "#### Question 5. Create a function that returns a base-2 (binary) representation of a base-10 (decimal) string number. To convert is simple: ((2) means base-2 and (10) means base-10) 010101001(2) = 1 + 8 + 32 + 128.\n",
    "#### Going from right to left, the value of the most right bit is 1, now from that every bit to the left will be x2 the value, value of an 8 bit binary numbers are (256, 128, 64, 32, 16, 8, 4, 2, 1).\n",
    "#### Examples\n",
    "#### binary(1) ➞ &quot;1&quot;\n",
    "#### 1*1 = 1\n",
    "#### binary(5) ➞ &quot;101&quot;\n",
    "#### 1*1 + 1*4 = 5\n",
    "#### binary(10) ➞ &quot;1010&quot;\n",
    "#### 1*2 + 1*8 = 10"
   ]
  },
  {
   "cell_type": "code",
   "execution_count": 9,
   "metadata": {},
   "outputs": [
    {
     "name": "stdout",
     "output_type": "stream",
     "text": [
      "1\n",
      "5\n",
      "10\n"
     ]
    }
   ],
   "source": [
    "def binary(num):\n",
    "    t = int(num,2)\n",
    "    return t\n",
    "print(binary(\"1\"))\n",
    "print(binary(\"101\"))\n",
    "print(binary(\"1010\"))"
   ]
  },
  {
   "cell_type": "code",
   "execution_count": null,
   "metadata": {},
   "outputs": [],
   "source": []
  }
 ],
 "metadata": {
  "kernelspec": {
   "display_name": "Python 3",
   "language": "python",
   "name": "python3"
  },
  "language_info": {
   "codemirror_mode": {
    "name": "ipython",
    "version": 3
   },
   "file_extension": ".py",
   "mimetype": "text/x-python",
   "name": "python",
   "nbconvert_exporter": "python",
   "pygments_lexer": "ipython3",
   "version": "3.6.5"
  }
 },
 "nbformat": 4,
 "nbformat_minor": 2
}
