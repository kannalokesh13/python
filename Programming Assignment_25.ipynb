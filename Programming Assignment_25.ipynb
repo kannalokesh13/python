{
 "cells": [
  {
   "cell_type": "markdown",
   "metadata": {},
   "source": [
    "#### Question1\n",
    "#### Create a function that takes three integer arguments (a, b, c) and returns the amount of integers which are of equal value.\n",
    "#### Examples\n",
    "#### equal(3, 4, 3) ➞ 2\n",
    "#### equal(1, 1, 1) ➞ 3\n",
    "#### equal(3, 4, 1) ➞ 0"
   ]
  },
  {
   "cell_type": "code",
   "execution_count": 1,
   "metadata": {},
   "outputs": [
    {
     "name": "stdout",
     "output_type": "stream",
     "text": [
      "1\n",
      "3\n",
      "0\n"
     ]
    }
   ],
   "source": [
    "def equal(a, b, c):\n",
    "    count = 0\n",
    "    \n",
    "    if a == b:\n",
    "        count += 1\n",
    "    if a == c:\n",
    "        count += 1\n",
    "    if b == c:\n",
    "        count += 1\n",
    "    \n",
    "    return count\n",
    "\n",
    "print(equal(3, 4, 3)) \n",
    "print(equal(1, 1, 1)) \n",
    "print(equal(3, 4, 1))  \n"
   ]
  },
  {
   "cell_type": "markdown",
   "metadata": {},
   "source": [
    "#### Question2\n",
    "#### Write a function that converts a dictionary into a list of keys-values tuples.\n",
    "#### Examples\n",
    "#### dict_to_list({ &quot;D&quot;: 1, &quot;B&quot;: 2, &quot;C&quot;: 3 }) ➞ [(&quot;B&quot;, 2), (&quot;C&quot;, 3), (&quot;D&quot;, 1)]\n",
    "#### dict_to_list({ &quot;likes&quot;: 2, &quot;dislikes&quot;: 3, &quot;followers&quot;: 10 }) ➞ [(&quot;dislikes&quot;, 3), (&quot;followers&quot;, 10), (&quot;likes&quot;, 2)]\n"
   ]
  },
  {
   "cell_type": "code",
   "execution_count": 2,
   "metadata": {},
   "outputs": [
    {
     "name": "stdout",
     "output_type": "stream",
     "text": [
      "[('D', 1), ('B', 2), ('C', 3)]\n",
      "[('likes', 2), ('dislikes', 3), ('followers', 10)]\n"
     ]
    }
   ],
   "source": [
    "def dict_to_list(dic):\n",
    "    n_lst = []\n",
    "    for key, value in dic.items():\n",
    "        s = (key,value)\n",
    "        n_lst.append(s)\n",
    "        \n",
    "    return n_lst\n",
    "\n",
    "print(dict_to_list({ \"D\": 1, \"B\": 2, \"C\": 3 }))\n",
    "print(dict_to_list({ \"likes\": 2, \"dislikes\": 3, \"followers\": 10 }))"
   ]
  },
  {
   "cell_type": "markdown",
   "metadata": {},
   "source": [
    "#### Question3\n",
    "### Write a function that creates a dictionary with each (key, value) pair being the (lower case, upper case) versions of a letter, respectively.\n",
    "#### Examples\n",
    "#### mapping([&quot;p&quot;, &quot;s&quot;]) ➞ { &quot;p&quot;: &quot;P&quot;, &quot;s&quot;: &quot;S&quot; }\n",
    "\n",
    "#### mapping([&quot;a&quot;, &quot;b&quot;, &quot;c&quot;]) ➞ { &quot;a&quot;: &quot;A&quot;, &quot;b&quot;: &quot;B&quot;, &quot;c&quot;: &quot;C&quot; }\n",
    "#### mapping([&quot;a&quot;, &quot;v&quot;, &quot;y&quot;, &quot;z&quot;]) ➞ { &quot;a&quot;: &quot;A&quot;, &quot;v&quot;: &quot;V&quot;, &quot;y&quot;: &quot;Y&quot;, &quot;z&quot;: &quot;Z&quot; }"
   ]
  },
  {
   "cell_type": "code",
   "execution_count": 3,
   "metadata": {},
   "outputs": [
    {
     "name": "stdout",
     "output_type": "stream",
     "text": [
      "{'p': 'P', 's': 'S'}\n",
      "{'a': 'A', 'b': 'B', 'c': 'C'}\n",
      "{'a': 'A', 'v': 'V', 'y': 'Y', 'z': 'Z'}\n"
     ]
    }
   ],
   "source": [
    "def mapping(lst):\n",
    "    dic = dict()\n",
    "    for i in lst:\n",
    "        dic[i]=i.upper()\n",
    "    return dic\n",
    "print(mapping([\"p\", \"s\"]))\n",
    "print(mapping([\"a\", \"b\", \"c\"]))\n",
    "print(mapping([\"a\", \"v\", \"y\", \"z\"]))"
   ]
  },
  {
   "cell_type": "markdown",
   "metadata": {},
   "source": [
    "#### Question4\n",
    "#### Write a function, that replaces all vowels in a string with a specified vowel.\n",
    "#### Examples\n",
    "#### vow_replace(&quot;apples and bananas&quot;, &quot;u&quot;) ➞ &quot;upplus und bununus&quot;\n",
    "#### vow_replace(&quot;cheese casserole&quot;, &quot;o&quot;) ➞ &quot;chooso cossorolo&quot;\n",
    "#### vow_replace(&quot;stuffed jalapeno poppers&quot;, &quot;e&quot;) ➞ &quot;steffed jelepene peppers&quot;"
   ]
  },
  {
   "cell_type": "code",
   "execution_count": 5,
   "metadata": {},
   "outputs": [
    {
     "name": "stdout",
     "output_type": "stream",
     "text": [
      "upplus und bununus\n",
      "chooso cossorolo\n",
      "steffed jelepene peppers\n"
     ]
    }
   ],
   "source": [
    "def vow_replace(s,n):\n",
    "    vow = ['a','e','i','o','u']\n",
    "    n_lst = []\n",
    "    for i in range(len(s)):\n",
    "        if s[i] in vow:\n",
    "            n_lst.append(n)\n",
    "        else:\n",
    "            n_lst.append(s[i])\n",
    "            \n",
    "    s = ''.join(n_lst)\n",
    "    return s\n",
    "print(vow_replace(\"apples and bananas\", \"u\"))\n",
    "print(vow_replace(\"cheese casserole\", \"o\"))\n",
    "print(vow_replace(\"stuffed jalapeno poppers\", \"e\"))         "
   ]
  },
  {
   "cell_type": "markdown",
   "metadata": {},
   "source": [
    "#### Question5\n",
    "#### Create a function that takes a string as input and capitalizes a letter if its ASCII code is even and returns its lower case version if its ASCII code is odd.\n",
    "#### Examples\n",
    "#### ascii_capitalize(&quot;to be or not to be!&quot;) ➞ &quot;To Be oR NoT To Be!&quot;\n",
    "#### ascii_capitalize(&quot;THE LITTLE MERMAID&quot;) ➞ &quot;THe LiTTLe meRmaiD&quot;\n",
    "#### ascii_capitalize(&quot;Oh what a beautiful morning.&quot;) ➞ &quot;oH wHaT a BeauTiFuL moRNiNg.&quot;"
   ]
  },
  {
   "cell_type": "code",
   "execution_count": 6,
   "metadata": {},
   "outputs": [
    {
     "name": "stdout",
     "output_type": "stream",
     "text": [
      "To Be oR NoT To Be!\n",
      "THe LiTTLe meRmaiD\n",
      "oH wHaT a BeauTiFuL moRNiNg.\n"
     ]
    }
   ],
   "source": [
    "def ascii_capitalize(string):\n",
    "    result = \"\"\n",
    "    \n",
    "    for char in string:\n",
    "        if ord(char) % 2 == 0:  \n",
    "            result += char.upper()\n",
    "        else:\n",
    "            result += char.lower()\n",
    "    \n",
    "    return result\n",
    "\n",
    "print(ascii_capitalize(\"to be or not to be!\"))  \n",
    "print(ascii_capitalize(\"THE LITTLE MERMAID\")) \n",
    "print(ascii_capitalize(\"Oh what a beautiful morning.\"))  \n"
   ]
  },
  {
   "cell_type": "code",
   "execution_count": null,
   "metadata": {},
   "outputs": [],
   "source": []
  }
 ],
 "metadata": {
  "kernelspec": {
   "display_name": "Python 3",
   "language": "python",
   "name": "python3"
  },
  "language_info": {
   "codemirror_mode": {
    "name": "ipython",
    "version": 3
   },
   "file_extension": ".py",
   "mimetype": "text/x-python",
   "name": "python",
   "nbconvert_exporter": "python",
   "pygments_lexer": "ipython3",
   "version": "3.6.5"
  }
 },
 "nbformat": 4,
 "nbformat_minor": 2
}
