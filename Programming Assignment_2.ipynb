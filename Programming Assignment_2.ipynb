{
 "cells": [
  {
   "cell_type": "markdown",
   "id": "4d034d49",
   "metadata": {},
   "source": [
    "#### 1. Write a Python program to convert kilometers to miles?"
   ]
  },
  {
   "cell_type": "code",
   "execution_count": 1,
   "id": "dc4f668d",
   "metadata": {},
   "outputs": [
    {
     "name": "stdout",
     "output_type": "stream",
     "text": [
      "enter kilometers5\n",
      "3.106855\n"
     ]
    }
   ],
   "source": [
    "km = 0.621371\n",
    "k = int(input(\"enter kilometers\"))\n",
    "s = km*k\n",
    "print(s)"
   ]
  },
  {
   "cell_type": "markdown",
   "id": "0a0a9836",
   "metadata": {},
   "source": [
    "#### 2. Write a Python program to convert Celsius to Fahrenheit?"
   ]
  },
  {
   "cell_type": "code",
   "execution_count": 3,
   "id": "b2a7591c",
   "metadata": {},
   "outputs": [
    {
     "name": "stdout",
     "output_type": "stream",
     "text": [
      "enter the temparatire in celcius34\n",
      "93.2\n"
     ]
    }
   ],
   "source": [
    "celsius = int(input(\"enter the temparatire in celcius\"))\n",
    "f = (celsius * 9/5) + 32\n",
    "print(f)"
   ]
  },
  {
   "cell_type": "markdown",
   "id": "6eac684c",
   "metadata": {},
   "source": [
    "#### 3. Write a Python program to display calendar?"
   ]
  },
  {
   "cell_type": "code",
   "execution_count": 9,
   "id": "b2c0c86a",
   "metadata": {},
   "outputs": [
    {
     "name": "stdout",
     "output_type": "stream",
     "text": [
      "      May 2023\n",
      "Mo Tu We Th Fr Sa Su\n",
      " 1  2  3  4  5  6  7\n",
      " 8  9 10 11 12 13 14\n",
      "15 16 17 18 19 20 21\n",
      "22 23 24 25 26 27 28\n",
      "29 30 31\n",
      "\n"
     ]
    }
   ],
   "source": [
    "import calendar\n",
    "\n",
    "print(calendar.month(2023,5))"
   ]
  },
  {
   "cell_type": "markdown",
   "id": "1afd4238",
   "metadata": {},
   "source": [
    "#### 4. Write a Python program to solve quadratic equation?"
   ]
  },
  {
   "cell_type": "code",
   "execution_count": 10,
   "id": "91dd03f0",
   "metadata": {},
   "outputs": [
    {
     "name": "stdout",
     "output_type": "stream",
     "text": [
      "Enter the coefficient of x^2: 34\n",
      "Enter the coefficient of x: 45\n",
      "Enter the constant: 8\n",
      "The solutions of the quadratic equation 34.0x^2 + 45.0x + 8.0 = 0 are (-1.111918466618058+0j) and (-0.21161094514664805+0j)\n"
     ]
    }
   ],
   "source": [
    "import cmath\n",
    "\n",
    "a = float(input(\"Enter the coefficient of x^2: \"))\n",
    "b = float(input(\"Enter the coefficient of x: \"))\n",
    "c = float(input(\"Enter the constant: \"))\n",
    "\n",
    "d = (b**2) - (4*a*c)\n",
    "\n",
    "root1 = (-b - cmath.sqrt(d)) / (2*a)\n",
    "root2 = (-b + cmath.sqrt(d)) / (2*a)\n",
    "\n",
    "print(f\"The solutions of the quadratic equation {a}x^2 + {b}x + {c} = 0 are {root1} and {root2}\")"
   ]
  },
  {
   "cell_type": "markdown",
   "id": "ac355d38",
   "metadata": {},
   "source": [
    "#### 5. Write a Python program to swap two variables without temp variable?"
   ]
  },
  {
   "cell_type": "code",
   "execution_count": 11,
   "id": "68c8325c",
   "metadata": {},
   "outputs": [
    {
     "name": "stdout",
     "output_type": "stream",
     "text": [
      "before swapping a = 2 and b = 3\n",
      "after swapping a = 3 and b = 2\n"
     ]
    }
   ],
   "source": [
    "a=2\n",
    "b=3\n",
    "print(f\"before swapping a = {a} and b = {b}\")\n",
    "a,b=b,a\n",
    "print(f\"after swapping a = {a} and b = {b}\")"
   ]
  },
  {
   "cell_type": "code",
   "execution_count": null,
   "id": "fa4a40e1",
   "metadata": {},
   "outputs": [],
   "source": []
  }
 ],
 "metadata": {
  "kernelspec": {
   "display_name": "Python 3 (ipykernel)",
   "language": "python",
   "name": "python3"
  },
  "language_info": {
   "codemirror_mode": {
    "name": "ipython",
    "version": 3
   },
   "file_extension": ".py",
   "mimetype": "text/x-python",
   "name": "python",
   "nbconvert_exporter": "python",
   "pygments_lexer": "ipython3",
   "version": "3.9.7"
  }
 },
 "nbformat": 4,
 "nbformat_minor": 5
}
