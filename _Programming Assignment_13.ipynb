{
 "cells": [
  {
   "cell_type": "markdown",
   "metadata": {},
   "source": [
    "#### Question 1:\n",
    "#### Write a program that calculates and prints the value according to the given formula:\n",
    "#### Q = Square root of [(2 * C * D)/H]\n",
    "#### Following are the fixed values of C and H:\n",
    "#### C is 50. H is 30.\n",
    "#### D is the variable whose values should be input to your program in a comma-separated sequence.\n",
    "#### Example\n",
    "#### Let us assume the following comma separated input sequence is given to the program:\n",
    "#### 100,150,180\n",
    "#### The output of the program should be:\n",
    "#### 18,22,24"
   ]
  },
  {
   "cell_type": "code",
   "execution_count": 3,
   "metadata": {},
   "outputs": [
    {
     "name": "stdout",
     "output_type": "stream",
     "text": [
      "[18, 22, 24]\n"
     ]
    }
   ],
   "source": [
    "import math\n",
    "C = 50\n",
    "H = 30\n",
    "def calc(lst):\n",
    "    out = []\n",
    "    for D in lst:\n",
    "        Q =  math.sqrt((2 * C * D)/H)\n",
    "        out.append(math.floor(Q))\n",
    "    return out\n",
    "\n",
    "k = calc([100,150,180])\n",
    "print(k)"
   ]
  },
  {
   "cell_type": "markdown",
   "metadata": {},
   "source": [
    "#### Question 2:\n",
    "#### Write a program which takes 2 digits, X,Y as input and generates a 2-dimensional array. The element value in the i-th row and j-th column of the array should be i*j.\n",
    "#### Note: i=0,1.., X-1; j=0,1,¡Y-1.\n",
    "#### Example\n",
    "#### Suppose the following inputs are given to the program:\n",
    "#### 3,5\n",
    "#### Then, the output of the program should be:\n",
    "#### [[0, 0, 0, 0, 0], [0, 1, 2, 3, 4], [0, 2, 4, 6, 8]]"
   ]
  },
  {
   "cell_type": "code",
   "execution_count": 15,
   "metadata": {},
   "outputs": [
    {
     "name": "stdout",
     "output_type": "stream",
     "text": [
      "[[ 0  1  2  3  4]\n",
      " [ 5  6  7  8  9]\n",
      " [10 11 12 13 14]]\n"
     ]
    }
   ],
   "source": [
    "import numpy as np\n",
    "def c_arr(x,y):\n",
    "    arr = np.arange(x*y)\n",
    "    arr1 = arr.reshape(x,y)\n",
    "    return arr1\n",
    "\n",
    "p = c_arr(3,5)\n",
    "print(p)"
   ]
  },
  {
   "cell_type": "markdown",
   "metadata": {},
   "source": [
    "#### Question 3:\n",
    "#### Write a program that accepts a comma separated sequence of words as input and prints the\n",
    "#### words in a comma-separated sequence after sorting them alphabetically.\n",
    "#### Suppose the following input is supplied to the program:\n",
    "#### without,hello,bag,world\n",
    "#### Then, the output should be:\n",
    "#### bag,hello,without,world"
   ]
  },
  {
   "cell_type": "code",
   "execution_count": 3,
   "metadata": {},
   "outputs": [
    {
     "name": "stdout",
     "output_type": "stream",
     "text": [
      "enter th comma separated wordslover,lokey,lokesh,chepak\n",
      "chepak,lokesh,lokey,lover\n"
     ]
    }
   ],
   "source": [
    "words = input(\"enter th comma separated words\")\n",
    "\n",
    "w_lst = words.split(',')\n",
    "\n",
    "s = sorted(w_lst)\n",
    "\n",
    "n_lst = ','.join(s)\n",
    "print(n_lst)"
   ]
  },
  {
   "cell_type": "markdown",
   "metadata": {},
   "source": [
    "#### Question 4:\n",
    "#### Write a program that accepts a sequence of whitespace separated words as input and prints the words after removing all duplicate words and sorting them alphanumerically.\n",
    "#### Suppose the following input is supplied to the program:\n",
    "#### hello world and practice makes perfect and hello world again\n",
    "#### Then, the output should be:\n",
    "#### again and hello makes perfect practice world"
   ]
  },
  {
   "cell_type": "code",
   "execution_count": 4,
   "metadata": {},
   "outputs": [
    {
     "name": "stdout",
     "output_type": "stream",
     "text": [
      "enter the space separted wordslover lokey lokesh chepak\n",
      "chepak lokesh lokey lover\n"
     ]
    }
   ],
   "source": [
    "words = input(\"enter the space separted words\")\n",
    "w_lst = words.split()\n",
    "s = list(set(w_lst))\n",
    "n_s = sorted(s)\n",
    "n_lst = \" \".join(n_s)\n",
    "print(n_lst)"
   ]
  },
  {
   "cell_type": "markdown",
   "metadata": {},
   "source": [
    "#### Question 5:\n",
    "#### Write a program that accepts a sentence and calculate the number of letters and digits.\n",
    "#### Suppose the following input is supplied to the program:\n",
    "#### hello world! 123\n",
    "#### Then, the output should be:\n",
    "#### LETTERS 10\n",
    "#### DIGITS 3"
   ]
  },
  {
   "cell_type": "code",
   "execution_count": 15,
   "metadata": {},
   "outputs": [
    {
     "name": "stdout",
     "output_type": "stream",
     "text": [
      "enter the sentence : hello world! 123\n",
      "LETTERS 10\n",
      "DIGITS 3\n"
     ]
    }
   ],
   "source": [
    "ip = input(\"enter the sentence : \")\n",
    "digit = 0\n",
    "strng = 0\n",
    "for i in ip:\n",
    "    if i.isdigit():\n",
    "        digit+=1\n",
    "    elif i.isalpha():\n",
    "        strng+=1\n",
    "    else:\n",
    "        pass\n",
    "print(f\"LETTERS {strng}\")\n",
    "print(f\"DIGITS {digit}\")"
   ]
  },
  {
   "cell_type": "markdown",
   "metadata": {},
   "source": [
    "#### Question 6:\n",
    "#### A website requires the users to input username and password to register. Write a program to\n",
    "#### check the validity of password input by users.\n",
    "#### Following are the criteria for checking the password:\n",
    "#### 1. At least 1 letter between [a-z]\n",
    "#### 2. At least 1 number between [0-9]\n",
    "#### 1. At least 1 letter between [A-Z]\n",
    "#### 3. At least 1 character from [$#@]\n",
    "#### 4. Minimum length of transaction password: 6\n",
    "#### 5. Maximum length of transaction password: 12\n",
    "#### Your program should accept a sequence of comma separated passwords and will check them\n",
    "#### according to the above criteria. Passwords that match the criteria are to be printed, each\n",
    "#### separated by a comma.\n",
    "#### Example\n",
    "#### If the following passwords are given as input to the program:\n",
    "#### ABd1234@1,a F1#,2w3E*,2We3345\n",
    "#### Then, the output of the program should be:\n",
    "#### ABd1234@1"
   ]
  },
  {
   "cell_type": "code",
   "execution_count": 19,
   "metadata": {},
   "outputs": [
    {
     "name": "stdout",
     "output_type": "stream",
     "text": [
      "Enter comma-separated passwords: ABd1234@1,a F1#,2w3E*,2We3345\n",
      "Valid passwords: ABd1234@1\n"
     ]
    }
   ],
   "source": [
    "import re\n",
    "\n",
    "def check_password_validity(password):\n",
    "    if len(password) < 6 or len(password) > 12:\n",
    "        return False\n",
    "    if not re.search(r'[a-z]', password):\n",
    "        return False\n",
    "    if not re.search(r'[0-9]', password):\n",
    "        return False\n",
    "    if not re.search(r'[A-Z]', password):\n",
    "        return False\n",
    "    if not re.search(r'[$#@]', password):\n",
    "        return False\n",
    "    return True\n",
    "\n",
    "def validate_passwords(passwords):\n",
    "    valid_passwords = []\n",
    "    for password in passwords:\n",
    "        if check_password_validity(password):\n",
    "            valid_passwords.append(password)\n",
    "    return valid_passwords\n",
    "\n",
    "\n",
    "password_input = input(\"Enter comma-separated passwords: \")\n",
    "passwords = password_input.split(',')\n",
    "valid_passwords = validate_passwords(passwords)\n",
    "\n",
    "print(\"Valid passwords:\", \", \".join(valid_passwords))\n"
   ]
  },
  {
   "cell_type": "code",
   "execution_count": 18,
   "metadata": {},
   "outputs": [
    {
     "data": {
      "text/plain": [
       "False"
      ]
     },
     "execution_count": 18,
     "metadata": {},
     "output_type": "execute_result"
    }
   ],
   "source": []
  },
  {
   "cell_type": "code",
   "execution_count": null,
   "metadata": {},
   "outputs": [],
   "source": []
  }
 ],
 "metadata": {
  "kernelspec": {
   "display_name": "Python 3",
   "language": "python",
   "name": "python3"
  }
 },
 "nbformat": 4,
 "nbformat_minor": 2
}
